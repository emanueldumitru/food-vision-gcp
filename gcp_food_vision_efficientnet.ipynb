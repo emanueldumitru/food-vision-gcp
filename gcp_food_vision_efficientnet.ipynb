{
  "nbformat": 4,
  "nbformat_minor": 0,
  "metadata": {
    "colab": {
      "name": "gcp-food-vision-efficientnet.ipynb",
      "provenance": [],
      "collapsed_sections": []
    },
    "kernelspec": {
      "name": "python3",
      "display_name": "Python 3"
    },
    "language_info": {
      "name": "python"
    },
    "accelerator": "GPU"
  },
  "cells": [
    {
      "cell_type": "markdown",
      "metadata": {
        "id": "E_fEvskhuJc9"
      },
      "source": [
        "### Let's train some models\n",
        "\n",
        "\n",
        "- **Want**: SavedModel format to upload to Google Storage (GS).\n",
        "- **Data**: Different slices of Food101 dataset.\n",
        "- **Model(s)**: EfficientNet with different output layers (e.g. 10 classes, 11 classes, 12 classes)."
      ]
    },
    {
      "cell_type": "code",
      "metadata": {
        "colab": {
          "base_uri": "https://localhost:8080/"
        },
        "id": "HZRhne__u0Ua",
        "outputId": "9e20db58-7e9c-4b4a-dde1-19c24546a831"
      },
      "source": [
        "!nvidia-smi"
      ],
      "execution_count": 1,
      "outputs": [
        {
          "output_type": "stream",
          "name": "stdout",
          "text": [
            "Wed Sep 29 08:46:40 2021       \n",
            "+-----------------------------------------------------------------------------+\n",
            "| NVIDIA-SMI 470.63.01    Driver Version: 460.32.03    CUDA Version: 11.2     |\n",
            "|-------------------------------+----------------------+----------------------+\n",
            "| GPU  Name        Persistence-M| Bus-Id        Disp.A | Volatile Uncorr. ECC |\n",
            "| Fan  Temp  Perf  Pwr:Usage/Cap|         Memory-Usage | GPU-Util  Compute M. |\n",
            "|                               |                      |               MIG M. |\n",
            "|===============================+======================+======================|\n",
            "|   0  Tesla K80           Off  | 00000000:00:04.0 Off |                    0 |\n",
            "| N/A   45C    P8    27W / 149W |      0MiB / 11441MiB |      0%      Default |\n",
            "|                               |                      |                  N/A |\n",
            "+-------------------------------+----------------------+----------------------+\n",
            "                                                                               \n",
            "+-----------------------------------------------------------------------------+\n",
            "| Processes:                                                                  |\n",
            "|  GPU   GI   CI        PID   Type   Process name                  GPU Memory |\n",
            "|        ID   ID                                                   Usage      |\n",
            "|=============================================================================|\n",
            "|  No running processes found                                                 |\n",
            "+-----------------------------------------------------------------------------+\n"
          ]
        }
      ]
    },
    {
      "cell_type": "markdown",
      "metadata": {
        "id": "D33hzrR0vCpQ"
      },
      "source": [
        "### Setup helper functions"
      ]
    },
    {
      "cell_type": "code",
      "metadata": {
        "id": "DUwuuRYgu3ah"
      },
      "source": [
        "import zipfile\n",
        "import tensorflow as tf\n",
        "from tensorflow import keras\n",
        "from tensorflow.keras import layers\n",
        "from tensorflow.keras.layers.experimental import preprocessing\n",
        "\n",
        "# Unzip the downloaded file\n",
        "def unzip_data(filename):\n",
        "  \"\"\"\n",
        "  Utility function to unzip a zipped file.\n",
        "  \"\"\"\n",
        "  zip_ref = zipfile.ZipFile(filename, \"r\")\n",
        "  zip_ref.extractall()\n",
        "  zip_ref.close()"
      ],
      "execution_count": 2,
      "outputs": []
    },
    {
      "cell_type": "code",
      "metadata": {
        "id": "GwIweTyYvG9d"
      },
      "source": [
        "# Setup data inputs\n",
        "IMG_SIZE = (224, 224)\n",
        "\n",
        "def create_data_loaders(train_dir, test_dir, image_size=IMG_SIZE):\n",
        "  \"\"\"\n",
        "  Creates a training and test image BatchDataset from train_dir and test_dir.\n",
        "  \"\"\"\n",
        "  train_data = tf.keras.preprocessing.image_dataset_from_directory(train_dir,\n",
        "                                                                  label_mode=\"categorical\",\n",
        "                                                                  image_size=image_size)\n",
        "  # Note: the test data is the same as the previous experiment, we could\n",
        "  # skip creating this, but we'll leave this here to practice.\n",
        "  test_data = tf.keras.preprocessing.image_dataset_from_directory(test_dir,\n",
        "                                                                  label_mode=\"categorical\",\n",
        "                                                                  image_size=image_size)\n",
        "  \n",
        "  return train_data, test_data"
      ],
      "execution_count": 3,
      "outputs": []
    },
    {
      "cell_type": "code",
      "metadata": {
        "id": "qrBt_PokvLXE"
      },
      "source": [
        "# Create a data augmentation stage with horizontal flipping, rotations, zooms\n",
        "data_augmentation = keras.Sequential([\n",
        "  preprocessing.RandomFlip(\"horizontal\"),\n",
        "  preprocessing.RandomRotation(0.2),\n",
        "  preprocessing.RandomZoom(0.2),\n",
        "  preprocessing.RandomHeight(0.2),\n",
        "  preprocessing.RandomWidth(0.2),\n",
        "  # preprocessing.Rescaling(1./255) # keep for ResNet50V2, remove for EfficientNetB0\n",
        "], name =\"data_augmentation\")"
      ],
      "execution_count": 4,
      "outputs": []
    },
    {
      "cell_type": "code",
      "metadata": {
        "colab": {
          "base_uri": "https://localhost:8080/"
        },
        "id": "4ZwVHDUuvNox",
        "outputId": "506bb3d9-bd5f-4eff-8b99-378fba857ccf"
      },
      "source": [
        "# Setup input shape and base model, freezing the base model layers\n",
        "INPUT_SHAPE = (224, 224, 3)\n",
        "BASE_MODEL = tf.keras.applications.EfficientNetB0(include_top=False)\n",
        "\n",
        "def create_model(input_shape=INPUT_SHAPE, base_model=BASE_MODEL, num_classes=10):\n",
        "  # Fine-tune?\n",
        "  base_model.trainable = False\n",
        "\n",
        "  # Create input layer\n",
        "  inputs = layers.Input(shape=input_shape, name=\"input_layer\")\n",
        "\n",
        "  # Add in data augmentation Sequential model as a layer\n",
        "  x = data_augmentation(inputs)\n",
        "\n",
        "  # Give base_model inputs (after augmentation) and don't train it\n",
        "  x = base_model(x, training=False)\n",
        "\n",
        "  # Pool output features of base model\n",
        "  x = layers.GlobalAveragePooling2D(name=\"global_average_pooling_layer\")(x)\n",
        "\n",
        "  # Put a dense layer on as the output\n",
        "  outputs = layers.Dense(num_classes, activation=\"softmax\", name=\"output_layer\")(x)\n",
        "\n",
        "  # Make a model with inputs and outputs\n",
        "  model = keras.Model(inputs, outputs)\n",
        "\n",
        "  # Compile the model\n",
        "  model.compile(loss=\"categorical_crossentropy\",\n",
        "                optimizer=tf.keras.optimizers.Adam(),\n",
        "                metrics=[\"accuracy\"])\n",
        "  \n",
        "  return model"
      ],
      "execution_count": 5,
      "outputs": [
        {
          "output_type": "stream",
          "name": "stdout",
          "text": [
            "Downloading data from https://storage.googleapis.com/keras-applications/efficientnetb0_notop.h5\n",
            "16711680/16705208 [==============================] - 0s 0us/step\n",
            "16719872/16705208 [==============================] - 0s 0us/step\n"
          ]
        }
      ]
    },
    {
      "cell_type": "code",
      "metadata": {
        "id": "2L755N9IvSO6"
      },
      "source": [
        "# Create a function to import an image and resize it to be able to be used with our model\n",
        "def load_and_prep_image(filename, img_shape=224, scale=False):\n",
        "  \"\"\"\n",
        "  Reads in an image from filename, turns it into a tensor and reshapes into\n",
        "  (224, 224, 3).\n",
        "  \"\"\"\n",
        "  # Read in the image\n",
        "  img = tf.io.read_file(filename)\n",
        "  # Decode it into a tensor\n",
        "  img = tf.image.decode_jpeg(img)\n",
        "  # Resize the image\n",
        "  img = tf.image.resize(img, [img_shape, img_shape])\n",
        "  # Rescale the image (get all values between 0 and 1)\n",
        "  if scale:\n",
        "    return img/255.\n",
        "  else:\n",
        "    return img"
      ],
      "execution_count": 7,
      "outputs": []
    },
    {
      "cell_type": "markdown",
      "metadata": {
        "id": "zKkb_1q0vaa4"
      },
      "source": [
        "### Download data"
      ]
    },
    {
      "cell_type": "code",
      "metadata": {
        "colab": {
          "base_uri": "https://localhost:8080/"
        },
        "id": "lQu8FvZdvZKZ",
        "outputId": "7925c542-4c7e-436b-ad52-016c296d5c86"
      },
      "source": [
        "# Get data\n",
        "import zipfile\n",
        "\n",
        "# Download data (10 class subset of Food101 - https://www.kaggle.com/dansbecker/food-101)\n",
        "# Already formatted in standard image classification directory style\n",
        "!wget https://storage.googleapis.com/ztm_tf_course/food_vision/10_food_classes_all_data.zip\n",
        "\n",
        "unzip_data(\"10_food_classes_all_data.zip\")"
      ],
      "execution_count": 8,
      "outputs": [
        {
          "output_type": "stream",
          "name": "stdout",
          "text": [
            "--2021-09-29 08:48:43--  https://storage.googleapis.com/ztm_tf_course/food_vision/10_food_classes_all_data.zip\n",
            "Resolving storage.googleapis.com (storage.googleapis.com)... 142.250.148.128, 209.85.200.128, 209.85.234.128, ...\n",
            "Connecting to storage.googleapis.com (storage.googleapis.com)|142.250.148.128|:443... connected.\n",
            "HTTP request sent, awaiting response... 200 OK\n",
            "Length: 519183241 (495M) [application/zip]\n",
            "Saving to: ‘10_food_classes_all_data.zip’\n",
            "\n",
            "10_food_classes_all 100%[===================>] 495.13M   200MB/s    in 2.5s    \n",
            "\n",
            "2021-09-29 08:48:46 (200 MB/s) - ‘10_food_classes_all_data.zip’ saved [519183241/519183241]\n",
            "\n"
          ]
        }
      ]
    },
    {
      "cell_type": "code",
      "metadata": {
        "colab": {
          "base_uri": "https://localhost:8080/"
        },
        "id": "AUjVT5b9veOX",
        "outputId": "e882c0ed-8127-4530-a41c-42eacaae7d88"
      },
      "source": [
        "# How many images in each folder?\n",
        "import os\n",
        "\n",
        "# Walk through 10 percent data directory and list number of files\n",
        "for dirpath, dirnames, filenames in os.walk(\"10_food_classes_all_data\"):\n",
        "  print(f\"There are {len(dirnames)} directories and {len(filenames)} images in '{dirpath}'.\")"
      ],
      "execution_count": 9,
      "outputs": [
        {
          "output_type": "stream",
          "name": "stdout",
          "text": [
            "There are 2 directories and 0 images in '10_food_classes_all_data'.\n",
            "There are 10 directories and 0 images in '10_food_classes_all_data/train'.\n",
            "There are 0 directories and 750 images in '10_food_classes_all_data/train/fried_rice'.\n",
            "There are 0 directories and 750 images in '10_food_classes_all_data/train/ice_cream'.\n",
            "There are 0 directories and 750 images in '10_food_classes_all_data/train/sushi'.\n",
            "There are 0 directories and 750 images in '10_food_classes_all_data/train/steak'.\n",
            "There are 0 directories and 750 images in '10_food_classes_all_data/train/hamburger'.\n",
            "There are 0 directories and 750 images in '10_food_classes_all_data/train/ramen'.\n",
            "There are 0 directories and 750 images in '10_food_classes_all_data/train/chicken_wings'.\n",
            "There are 0 directories and 750 images in '10_food_classes_all_data/train/grilled_salmon'.\n",
            "There are 0 directories and 750 images in '10_food_classes_all_data/train/chicken_curry'.\n",
            "There are 0 directories and 750 images in '10_food_classes_all_data/train/pizza'.\n",
            "There are 10 directories and 0 images in '10_food_classes_all_data/test'.\n",
            "There are 0 directories and 250 images in '10_food_classes_all_data/test/fried_rice'.\n",
            "There are 0 directories and 250 images in '10_food_classes_all_data/test/ice_cream'.\n",
            "There are 0 directories and 250 images in '10_food_classes_all_data/test/sushi'.\n",
            "There are 0 directories and 250 images in '10_food_classes_all_data/test/steak'.\n",
            "There are 0 directories and 250 images in '10_food_classes_all_data/test/hamburger'.\n",
            "There are 0 directories and 250 images in '10_food_classes_all_data/test/ramen'.\n",
            "There are 0 directories and 250 images in '10_food_classes_all_data/test/chicken_wings'.\n",
            "There are 0 directories and 250 images in '10_food_classes_all_data/test/grilled_salmon'.\n",
            "There are 0 directories and 250 images in '10_food_classes_all_data/test/chicken_curry'.\n",
            "There are 0 directories and 250 images in '10_food_classes_all_data/test/pizza'.\n"
          ]
        }
      ]
    },
    {
      "cell_type": "code",
      "metadata": {
        "colab": {
          "base_uri": "https://localhost:8080/"
        },
        "id": "PXVpNYAdvjUQ",
        "outputId": "f3ac2fb6-9e06-4d53-cdd5-8e6aa8c8d6ec"
      },
      "source": [
        "# Check the file in 10_food_classes_10_percent\n",
        "!ls -la 10_food_classes_all_data"
      ],
      "execution_count": 10,
      "outputs": [
        {
          "output_type": "stream",
          "name": "stdout",
          "text": [
            "total 16\n",
            "drwxr-xr-x  4 root root 4096 Sep 29 08:48 .\n",
            "drwxr-xr-x  1 root root 4096 Sep 29 08:48 ..\n",
            "drwxr-xr-x 12 root root 4096 Sep 29 08:48 test\n",
            "drwxr-xr-x 12 root root 4096 Sep 29 08:48 train\n"
          ]
        }
      ]
    },
    {
      "cell_type": "markdown",
      "metadata": {
        "id": "0wTqalTIvruL"
      },
      "source": [
        "Notice how each of the training directories now has 75 images rather than 750 images. This is key to demonstrating how well transfer learning can perform with less labelled images.\n",
        "\n",
        "The test directories still have the same amount of images. This means we'll be training on less data but evaluating our models on the same amount of test data."
      ]
    },
    {
      "cell_type": "code",
      "metadata": {
        "id": "_p986TPSvl2u"
      },
      "source": [
        "# Create tensorboard callback (functionized because need to create a new one for each model)\n",
        "import datetime\n",
        "def create_tensorboard_callback(dir_name, experiment_name):\n",
        "  log_dir = dir_name + \"/\" + experiment_name + \"/\" + datetime.datetime.now().strftime(\"%Y%m%d-%H%M%S\")\n",
        "  tensorboard_callback = tf.keras.callbacks.TensorBoard(\n",
        "      log_dir=log_dir\n",
        "  )\n",
        "  print(f\"Saving TensorBoard log files to: {log_dir}\")\n",
        "  return tensorboard_callback"
      ],
      "execution_count": 11,
      "outputs": []
    },
    {
      "cell_type": "markdown",
      "metadata": {
        "id": "uqxWZPq_vws3"
      },
      "source": [
        "### Model 1 ( 10 classes )"
      ]
    },
    {
      "cell_type": "code",
      "metadata": {
        "colab": {
          "base_uri": "https://localhost:8080/"
        },
        "id": "FIfpxOWLvuZP",
        "outputId": "e8cbb4f3-7d56-48a2-deb2-99fe1c217f57"
      },
      "source": [
        "# Create BatchDataset\n",
        "train_data, test_data = create_data_loaders(train_dir=\"10_food_classes_all_data/train/\",\n",
        "                                            test_dir=\"10_food_classes_all_data/test/\")"
      ],
      "execution_count": 12,
      "outputs": [
        {
          "output_type": "stream",
          "name": "stdout",
          "text": [
            "Found 7500 files belonging to 10 classes.\n",
            "Found 2500 files belonging to 10 classes.\n"
          ]
        }
      ]
    },
    {
      "cell_type": "code",
      "metadata": {
        "colab": {
          "base_uri": "https://localhost:8080/"
        },
        "id": "RTtLNHbpv049",
        "outputId": "2cf20fab-b30f-4103-8d3f-11ecafed3911"
      },
      "source": [
        "# What size is our data?\n",
        "train_data"
      ],
      "execution_count": 13,
      "outputs": [
        {
          "output_type": "execute_result",
          "data": {
            "text/plain": [
              "<BatchDataset shapes: ((None, 224, 224, 3), (None, 10)), types: (tf.float32, tf.float32)>"
            ]
          },
          "metadata": {},
          "execution_count": 13
        }
      ]
    },
    {
      "cell_type": "code",
      "metadata": {
        "colab": {
          "base_uri": "https://localhost:8080/"
        },
        "id": "zqoQewPtv20h",
        "outputId": "b77da159-087d-49b9-e7dd-ed59eaa002c0"
      },
      "source": [
        "# Create model\n",
        "model_1 = create_model(num_classes=len(train_data.class_names))\n",
        "\n",
        "# Fit the model\n",
        "history_1_percent = model_1.fit(train_data,\n",
        "                    epochs=5,\n",
        "                    steps_per_epoch=len(train_data),\n",
        "                    validation_data=test_data,\n",
        "                    validation_steps=int(0.25 * len(test_data)), # validate for less steps\n",
        "                    # Track model training logs\n",
        "                    callbacks=[create_tensorboard_callback(\"transfer_learning\", \"all_data_aug\")])"
      ],
      "execution_count": 14,
      "outputs": [
        {
          "output_type": "stream",
          "name": "stdout",
          "text": [
            "Saving TensorBoard log files to: transfer_learning/all_data_aug/20210929-085038\n",
            "Epoch 1/5\n"
          ]
        },
        {
          "output_type": "stream",
          "name": "stderr",
          "text": [
            "/usr/local/lib/python3.7/dist-packages/keras/utils/generic_utils.py:497: CustomMaskWarning: Custom mask layers require a config and must override get_config. When loading, the custom mask layer must be passed to the custom_objects argument.\n",
            "  category=CustomMaskWarning)\n"
          ]
        },
        {
          "output_type": "stream",
          "name": "stdout",
          "text": [
            "235/235 [==============================] - 142s 443ms/step - loss: 1.0851 - accuracy: 0.6771 - val_loss: 0.5280 - val_accuracy: 0.8438\n",
            "Epoch 2/5\n",
            "235/235 [==============================] - 82s 347ms/step - loss: 0.6926 - accuracy: 0.7911 - val_loss: 0.4282 - val_accuracy: 0.8602\n",
            "Epoch 3/5\n",
            "235/235 [==============================] - 75s 315ms/step - loss: 0.6230 - accuracy: 0.8036 - val_loss: 0.3992 - val_accuracy: 0.8865\n",
            "Epoch 4/5\n",
            "235/235 [==============================] - 70s 293ms/step - loss: 0.5670 - accuracy: 0.8176 - val_loss: 0.3931 - val_accuracy: 0.8701\n",
            "Epoch 5/5\n",
            "235/235 [==============================] - 61s 259ms/step - loss: 0.5386 - accuracy: 0.8327 - val_loss: 0.3747 - val_accuracy: 0.8701\n"
          ]
        }
      ]
    },
    {
      "cell_type": "code",
      "metadata": {
        "colab": {
          "base_uri": "https://localhost:8080/"
        },
        "id": "tsw2E6Qov59f",
        "outputId": "c48f58a2-9c1c-452f-d853-1250f3e0e408"
      },
      "source": [
        "# Classes our model is trained on\n",
        "class_names = train_data.class_names\n",
        "class_names"
      ],
      "execution_count": 15,
      "outputs": [
        {
          "output_type": "execute_result",
          "data": {
            "text/plain": [
              "['chicken_curry',\n",
              " 'chicken_wings',\n",
              " 'fried_rice',\n",
              " 'grilled_salmon',\n",
              " 'hamburger',\n",
              " 'ice_cream',\n",
              " 'pizza',\n",
              " 'ramen',\n",
              " 'steak',\n",
              " 'sushi']"
            ]
          },
          "metadata": {},
          "execution_count": 15
        }
      ]
    },
    {
      "cell_type": "markdown",
      "metadata": {
        "id": "Xeijf_TCyS_i"
      },
      "source": [
        "## Save and upload Model 1 to Google Storage\n",
        "\n",
        "We want to save our model in the TensorFlow [`SavedModel`](https://www.tensorflow.org/guide/saved_model) format because:\n",
        "  * We're going to upload our `SavedModel` to Google Storage.\n",
        "  * Then we're link our `SavedModel` to AI platform to serve it ([AI platform requires `SavedModel`](https://cloud.google.com/ai-platform/prediction/docs/deploying-models) format for model serving).\n",
        "\n",
        "We can do this using: \n",
        "1. `model.save(\"PATH_TO_SAVED_MODEL\")` to create a `SavedModel` object (our trained model).\n",
        "2. Upload the model to Google Storage using the following guide: https://cloud.google.com/storage/docs/uploading-objects#gsutil "
      ]
    },
    {
      "cell_type": "code",
      "metadata": {
        "colab": {
          "base_uri": "https://localhost:8080/"
        },
        "id": "BYgDgWjYyIlT",
        "outputId": "8d6c0918-ef86-4ddd-9660-b0dd1f755bdd"
      },
      "source": [
        "# Save model_1\n",
        "model_1.save(\"efficientnet_model_1_10_classes\")"
      ],
      "execution_count": 17,
      "outputs": [
        {
          "output_type": "stream",
          "name": "stdout",
          "text": [
            "INFO:tensorflow:Assets written to: efficientnet_model_1_10_classes/assets\n"
          ]
        },
        {
          "output_type": "stream",
          "name": "stderr",
          "text": [
            "/usr/local/lib/python3.7/dist-packages/keras/utils/generic_utils.py:497: CustomMaskWarning: Custom mask layers require a config and must override get_config. When loading, the custom mask layer must be passed to the custom_objects argument.\n",
            "  category=CustomMaskWarning)\n"
          ]
        }
      ]
    },
    {
      "cell_type": "markdown",
      "metadata": {
        "id": "AARUKtXSzxjY"
      },
      "source": [
        "The next few cells will allow you to upload files directly from Google Colab to Google Storage."
      ]
    },
    {
      "cell_type": "code",
      "metadata": {
        "id": "FF_xL4rzyayF"
      },
      "source": [
        "# Authentic Colab \n",
        "# (running this will give you a code to authentic your Google Colab instance, keep the code secret)\n",
        "from google.colab import auth\n",
        "auth.authenticate_user()"
      ],
      "execution_count": 18,
      "outputs": []
    },
    {
      "cell_type": "code",
      "metadata": {
        "id": "tWXEgf6vzzkL"
      },
      "source": [
        "# Install and initialize the gcloud command line tool - https://cloud.google.com/sdk/docs/install\n",
        "# (this will give you access to gcloud tools within Colab)\n",
        "!curl https://sdk.cloud.google.com | bash 1> /dev/null\n",
        "!gcloud init1"
      ],
      "execution_count": null,
      "outputs": []
    },
    {
      "cell_type": "markdown",
      "metadata": {
        "id": "tqUv5zRe0Uf_"
      },
      "source": [
        "Once you've gone through the steps in the above cell, you'll be able to use `gcloud` utilities from Colab.\n",
        "\n",
        "The main one we're after is copying our model from Colab storage to Google Storage.\n",
        "\n",
        "For example, running:\n",
        "\n",
        "```\n",
        "# Copy local model folder to bucket named \"ml_deployment_lec_bucket_0\"\n",
        "!gsutil cp -r efficientnet_model_1_10_classes gs://ml_deploymet_lec_bucket_0\n",
        "```\n",
        "\n",
        "But the above line uses my Google Storage bucket/model, yours will look more like:\n",
        "\n",
        "```\n",
        "!gsutil cp -r YOUR_MODEL_NAME gs://YOUR_BUCKET_NAME\n",
        "```\n",
        "\n",
        "**Note:** To upload anything to a bucket, you will need an existing bucket. See the documentation on [how to create a Google Storage bucket](https://cloud.google.com/storage/docs/creating-buckets)."
      ]
    },
    {
      "cell_type": "code",
      "metadata": {
        "colab": {
          "base_uri": "https://localhost:8080/"
        },
        "id": "EDhx-imWz90A",
        "outputId": "83a96893-4601-49a7-b6c5-c5c4e6a46114"
      },
      "source": [
        "# Copy model to bucket\n",
        "!gsutil cp -r efficientnet_model_1_10_classes gs://gcp-food-vision"
      ],
      "execution_count": 20,
      "outputs": [
        {
          "output_type": "stream",
          "name": "stdout",
          "text": [
            "Copying file://efficientnet_model_1_10_classes/keras_metadata.pb [Content-Type=application/octet-stream]...\n",
            "Copying file://efficientnet_model_1_10_classes/saved_model.pb [Content-Type=application/octet-stream]...\n",
            "Copying file://efficientnet_model_1_10_classes/variables/variables.data-00000-of-00001 [Content-Type=application/octet-stream]...\n",
            "Copying file://efficientnet_model_1_10_classes/variables/variables.index [Content-Type=application/octet-stream]...\n",
            "- [4 files][ 22.6 MiB/ 22.6 MiB]                                                \n",
            "Operation completed over 4 objects/22.6 MiB.                                     \n"
          ]
        }
      ]
    },
    {
      "cell_type": "markdown",
      "metadata": {
        "id": "lowcOFhW0jSm"
      },
      "source": [
        "## Model 2 (11 food classes)\n",
        "\n",
        "Same as model 1 but we've added the donut class."
      ]
    },
    {
      "cell_type": "code",
      "metadata": {
        "colab": {
          "base_uri": "https://localhost:8080/"
        },
        "id": "ydedWMXr0a7S",
        "outputId": "a094be14-e14d-4b5f-efc5-4385a9b9c8e9"
      },
      "source": [
        "# Get data\n",
        "import zipfile\n",
        "\n",
        "# Download data\n",
        "!wget https://storage.googleapis.com/ml_deploymet_lec_bucket_0/11_food_classes_all_data.zip # note: this may be broken if using well beyond Feb 10 2021\n",
        "unzip_data(\"11_food_classes_all_data.zip\")"
      ],
      "execution_count": 21,
      "outputs": [
        {
          "output_type": "stream",
          "name": "stdout",
          "text": [
            "--2021-09-29 09:11:07--  https://storage.googleapis.com/ml_deploymet_lec_bucket_0/11_food_classes_all_data.zip\n",
            "Resolving storage.googleapis.com (storage.googleapis.com)... 173.194.193.128, 173.194.194.128, 173.194.198.128, ...\n",
            "Connecting to storage.googleapis.com (storage.googleapis.com)|173.194.193.128|:443... connected.\n",
            "HTTP request sent, awaiting response... 200 OK\n",
            "Length: 570914387 (544M) [application/zip]\n",
            "Saving to: ‘11_food_classes_all_data.zip’\n",
            "\n",
            "11_food_classes_all 100%[===================>] 544.47M   146MB/s    in 3.7s    \n",
            "\n",
            "2021-09-29 09:11:11 (146 MB/s) - ‘11_food_classes_all_data.zip’ saved [570914387/570914387]\n",
            "\n"
          ]
        }
      ]
    },
    {
      "cell_type": "code",
      "metadata": {
        "colab": {
          "base_uri": "https://localhost:8080/"
        },
        "id": "Ao23T8_L0mL3",
        "outputId": "d7f87c8b-ce05-4aab-fcb8-d013334a0817"
      },
      "source": [
        "# Create data loaders\n",
        "train_data, test_data = create_data_loaders(train_dir=\"11_food_classes_all_data/train/\",\n",
        "                                            test_dir=\"11_food_classes_all_data/test/\")"
      ],
      "execution_count": 22,
      "outputs": [
        {
          "output_type": "stream",
          "name": "stdout",
          "text": [
            "Found 8250 files belonging to 11 classes.\n",
            "Found 2750 files belonging to 11 classes.\n"
          ]
        }
      ]
    },
    {
      "cell_type": "code",
      "metadata": {
        "colab": {
          "base_uri": "https://localhost:8080/"
        },
        "id": "APcXiU0H0r4q",
        "outputId": "324d957e-dfd0-4f0b-dc7d-7c6607884849"
      },
      "source": [
        "train_data.class_names"
      ],
      "execution_count": 23,
      "outputs": [
        {
          "output_type": "execute_result",
          "data": {
            "text/plain": [
              "['chicken_curry',\n",
              " 'chicken_wings',\n",
              " 'donuts',\n",
              " 'fried_rice',\n",
              " 'grilled_salmon',\n",
              " 'hamburger',\n",
              " 'ice_cream',\n",
              " 'pizza',\n",
              " 'ramen',\n",
              " 'steak',\n",
              " 'sushi']"
            ]
          },
          "metadata": {},
          "execution_count": 23
        }
      ]
    },
    {
      "cell_type": "code",
      "metadata": {
        "colab": {
          "base_uri": "https://localhost:8080/"
        },
        "id": "jMnoSHM40toe",
        "outputId": "26bc66a7-7772-45b5-bcf0-9c30f10f77bb"
      },
      "source": [
        "# Create model\n",
        "model_2 = create_model(num_classes=len(train_data.class_names))\n",
        "\n",
        "# Fit model\n",
        "history_2 = model_2.fit(train_data,\n",
        "                        epochs=5,\n",
        "                        validation_data=test_data,\n",
        "                        validation_steps=int(0.25*len(test_data)))"
      ],
      "execution_count": 24,
      "outputs": [
        {
          "output_type": "stream",
          "name": "stdout",
          "text": [
            "Epoch 1/5\n",
            "258/258 [==============================] - 75s 262ms/step - loss: 1.1114 - accuracy: 0.6693 - val_loss: 0.4938 - val_accuracy: 0.8542\n",
            "Epoch 2/5\n",
            "258/258 [==============================] - 60s 231ms/step - loss: 0.7062 - accuracy: 0.7855 - val_loss: 0.4159 - val_accuracy: 0.8661\n",
            "Epoch 3/5\n",
            "258/258 [==============================] - 62s 238ms/step - loss: 0.6425 - accuracy: 0.8019 - val_loss: 0.3637 - val_accuracy: 0.8914\n",
            "Epoch 4/5\n",
            "258/258 [==============================] - 59s 225ms/step - loss: 0.5952 - accuracy: 0.8149 - val_loss: 0.3420 - val_accuracy: 0.8958\n",
            "Epoch 5/5\n",
            "258/258 [==============================] - 58s 222ms/step - loss: 0.5524 - accuracy: 0.8264 - val_loss: 0.3385 - val_accuracy: 0.9003\n"
          ]
        }
      ]
    },
    {
      "cell_type": "code",
      "metadata": {
        "colab": {
          "base_uri": "https://localhost:8080/"
        },
        "id": "PwYgzbVD0wP_",
        "outputId": "54647ade-d93d-4e7b-db54-8c948feb8bea"
      },
      "source": [
        "# Save model_2...\n",
        "model_2.save(\"efficientnet_model_2_11_classes\")"
      ],
      "execution_count": 25,
      "outputs": [
        {
          "output_type": "stream",
          "name": "stdout",
          "text": [
            "INFO:tensorflow:Assets written to: efficientnet_model_2_11_classes/assets\n"
          ]
        },
        {
          "output_type": "stream",
          "name": "stderr",
          "text": [
            "/usr/local/lib/python3.7/dist-packages/keras/utils/generic_utils.py:497: CustomMaskWarning: Custom mask layers require a config and must override get_config. When loading, the custom mask layer must be passed to the custom_objects argument.\n",
            "  category=CustomMaskWarning)\n"
          ]
        }
      ]
    },
    {
      "cell_type": "markdown",
      "metadata": {
        "id": "6Gankq2q2jp9"
      },
      "source": [
        "## Upload Model 2 to Google Storage"
      ]
    },
    {
      "cell_type": "code",
      "metadata": {
        "id": "AZ4b1wX92SUn"
      },
      "source": [
        "# Auth Colab\n",
        "from google.colab import auth\n",
        "auth.authenticate_user()\n",
        "!curl https://sdk.cloud.google.com | bash 1> /dev/null\n",
        "!gcloud init"
      ],
      "execution_count": null,
      "outputs": []
    },
    {
      "cell_type": "code",
      "metadata": {
        "colab": {
          "base_uri": "https://localhost:8080/"
        },
        "id": "42HbQJBs2mVD",
        "outputId": "47b4cb50-a000-48c9-eeca-29ec0db04787"
      },
      "source": [
        "# Upload to GS (requires auth)\n",
        "!gsutil cp -r efficientnet_model_2_11_classes gs://gcp-food-vision"
      ],
      "execution_count": 27,
      "outputs": [
        {
          "output_type": "stream",
          "name": "stdout",
          "text": [
            "Copying file://efficientnet_model_2_11_classes/keras_metadata.pb [Content-Type=application/octet-stream]...\n",
            "Copying file://efficientnet_model_2_11_classes/saved_model.pb [Content-Type=application/octet-stream]...\n",
            "Copying file://efficientnet_model_2_11_classes/variables/variables.data-00000-of-00001 [Content-Type=application/octet-stream]...\n",
            "Copying file://efficientnet_model_2_11_classes/variables/variables.index [Content-Type=application/octet-stream]...\n",
            "- [4 files][ 22.6 MiB/ 22.6 MiB]                                                \n",
            "Operation completed over 4 objects/22.6 MiB.                                     \n"
          ]
        }
      ]
    },
    {
      "cell_type": "markdown",
      "metadata": {
        "id": "uqd-hI1I24Y9"
      },
      "source": [
        "## Model 3 (11 food classes + 5000 non-food images, 12 classes total)\n",
        "\n",
        "* 11 food classes are same as model 2 above.\n",
        "* 1 `not_food` class is comprised of ~5000 randomly downloaded images from ImageNet (500 random classes and 10 random images within each of those classes).\n",
        "  * To do this, I used the script at: https://github.com/mf1024/ImageNet-Datasets-Downloader "
      ]
    },
    {
      "cell_type": "code",
      "metadata": {
        "colab": {
          "base_uri": "https://localhost:8080/"
        },
        "id": "yWOUvtX92xkK",
        "outputId": "29823424-3000-4d3d-d6f0-55ff42bed530"
      },
      "source": [
        "# Get data\n",
        "import zipfile\n",
        "\n",
        "# Download data\n",
        "!wget https://storage.googleapis.com/ml_deploymet_lec_bucket_0/11_food_classes_plus_not_food_class_all_data.zip # note: this may be broken if using well beyond Feb 10 2021\n",
        "unzip_data(\"11_food_classes_plus_not_food_class_all_data.zip\")"
      ],
      "execution_count": 28,
      "outputs": [
        {
          "output_type": "stream",
          "name": "stdout",
          "text": [
            "--2021-09-29 09:21:19--  https://storage.googleapis.com/ml_deploymet_lec_bucket_0/11_food_classes_plus_not_food_class_all_data.zip\n",
            "Resolving storage.googleapis.com (storage.googleapis.com)... 108.177.111.128, 142.250.128.128, 142.251.6.128, ...\n",
            "Connecting to storage.googleapis.com (storage.googleapis.com)|108.177.111.128|:443... connected.\n",
            "HTTP request sent, awaiting response... 200 OK\n",
            "Length: 1053780900 (1005M) [application/zip]\n",
            "Saving to: ‘11_food_classes_plus_not_food_class_all_data.zip’\n",
            "\n",
            "11_food_classes_plu 100%[===================>]   1005M   147MB/s    in 6.8s    \n",
            "\n",
            "2021-09-29 09:21:26 (147 MB/s) - ‘11_food_classes_plus_not_food_class_all_data.zip’ saved [1053780900/1053780900]\n",
            "\n"
          ]
        }
      ]
    },
    {
      "cell_type": "code",
      "metadata": {
        "colab": {
          "base_uri": "https://localhost:8080/"
        },
        "id": "wIG5uuw927wG",
        "outputId": "15190349-3425-46cd-ed4a-fd39500e747c"
      },
      "source": [
        "# Create data loaders\n",
        "train_data, test_data = create_data_loaders(train_dir=\"11_food_classes_plus_not_food_class_all_data/train/\",\n",
        "                                            test_dir=\"11_food_classes_plus_not_food_class_all_data/test/\")"
      ],
      "execution_count": 29,
      "outputs": [
        {
          "output_type": "stream",
          "name": "stdout",
          "text": [
            "Found 14343 files belonging to 12 classes.\n",
            "Found 4273 files belonging to 12 classes.\n"
          ]
        }
      ]
    },
    {
      "cell_type": "code",
      "metadata": {
        "colab": {
          "base_uri": "https://localhost:8080/"
        },
        "id": "WmzHiIh33D1T",
        "outputId": "32d71287-43ab-4f59-fdf7-3763dcd1eb62"
      },
      "source": [
        "# Create model\n",
        "model_3 = create_model(num_classes=len(train_data.class_names))\n",
        "\n",
        "# Fit model\n",
        "history_3 = model_3.fit(train_data,\n",
        "                        epochs=5,\n",
        "                        validation_data=test_data,\n",
        "                        validation_steps=int(0.25*len(test_data)))"
      ],
      "execution_count": 30,
      "outputs": [
        {
          "output_type": "stream",
          "name": "stdout",
          "text": [
            "Epoch 1/5\n",
            "449/449 [==============================] - 104s 215ms/step - loss: 0.9091 - accuracy: 0.7507 - val_loss: 0.5138 - val_accuracy: 0.8769\n",
            "Epoch 2/5\n",
            "449/449 [==============================] - 89s 198ms/step - loss: 0.5876 - accuracy: 0.8295 - val_loss: 0.4525 - val_accuracy: 0.8864\n",
            "Epoch 3/5\n",
            "449/449 [==============================] - 87s 192ms/step - loss: 0.5294 - accuracy: 0.8454 - val_loss: 0.4308 - val_accuracy: 0.8958\n",
            "Epoch 4/5\n",
            "449/449 [==============================] - 87s 192ms/step - loss: 0.4913 - accuracy: 0.8544 - val_loss: 0.4031 - val_accuracy: 0.8958\n",
            "Epoch 5/5\n",
            "449/449 [==============================] - 83s 183ms/step - loss: 0.4728 - accuracy: 0.8601 - val_loss: 0.3908 - val_accuracy: 0.9044\n"
          ]
        }
      ]
    },
    {
      "cell_type": "code",
      "metadata": {
        "colab": {
          "base_uri": "https://localhost:8080/"
        },
        "id": "cbkeepSx3GRw",
        "outputId": "47af1790-db3f-4fe1-9ad5-ac52ec900001"
      },
      "source": [
        "# Save model_3...\n",
        "model_3.save(\"efficientnet_model_3_12_classes\")"
      ],
      "execution_count": 31,
      "outputs": [
        {
          "output_type": "stream",
          "name": "stdout",
          "text": [
            "INFO:tensorflow:Assets written to: efficientnet_model_3_12_classes/assets\n"
          ]
        },
        {
          "output_type": "stream",
          "name": "stderr",
          "text": [
            "/usr/local/lib/python3.7/dist-packages/keras/utils/generic_utils.py:497: CustomMaskWarning: Custom mask layers require a config and must override get_config. When loading, the custom mask layer must be passed to the custom_objects argument.\n",
            "  category=CustomMaskWarning)\n"
          ]
        }
      ]
    },
    {
      "cell_type": "code",
      "metadata": {
        "colab": {
          "base_uri": "https://localhost:8080/"
        },
        "id": "gKl0FS0s5THi",
        "outputId": "e7db88a9-0527-4335-c8af-fa665b27f945"
      },
      "source": [
        "model_3.evaluate(test_data)"
      ],
      "execution_count": 32,
      "outputs": [
        {
          "output_type": "stream",
          "name": "stdout",
          "text": [
            "134/134 [==============================] - 19s 133ms/step - loss: 0.3953 - accuracy: 0.8942\n"
          ]
        },
        {
          "output_type": "execute_result",
          "data": {
            "text/plain": [
              "[0.39526909589767456, 0.8942195177078247]"
            ]
          },
          "metadata": {},
          "execution_count": 32
        }
      ]
    },
    {
      "cell_type": "markdown",
      "metadata": {
        "id": "N4HqQ9QA5nK9"
      },
      "source": [
        "## Upload Model 3 to Google Storage"
      ]
    },
    {
      "cell_type": "code",
      "metadata": {
        "id": "gLGLYCAX5fZ_"
      },
      "source": [
        "# Auth Colab\n",
        "from google.colab import auth\n",
        "auth.authenticate_user()\n",
        "!curl https://sdk.cloud.google.com | bash 1> /dev/null\n",
        "!gcloud init"
      ],
      "execution_count": null,
      "outputs": []
    },
    {
      "cell_type": "code",
      "metadata": {
        "colab": {
          "base_uri": "https://localhost:8080/"
        },
        "id": "DhpTvVsa5pTt",
        "outputId": "b034301e-12cb-4fe4-813f-d2055b8f2905"
      },
      "source": [
        "# Upload to GS (requires auth)\n",
        "!gsutil cp -r efficientnet_model_3_12_classes gs://gcp-food-vision"
      ],
      "execution_count": 34,
      "outputs": [
        {
          "output_type": "stream",
          "name": "stdout",
          "text": [
            "Copying file://efficientnet_model_3_12_classes/keras_metadata.pb [Content-Type=application/octet-stream]...\n",
            "Copying file://efficientnet_model_3_12_classes/saved_model.pb [Content-Type=application/octet-stream]...\n",
            "Copying file://efficientnet_model_3_12_classes/variables/variables.data-00000-of-00001 [Content-Type=application/octet-stream]...\n",
            "Copying file://efficientnet_model_3_12_classes/variables/variables.index [Content-Type=application/octet-stream]...\n",
            "- [4 files][ 22.6 MiB/ 22.6 MiB]                                                \n",
            "Operation completed over 4 objects/22.6 MiB.                                     \n"
          ]
        }
      ]
    },
    {
      "cell_type": "markdown",
      "metadata": {
        "id": "sfEPy7jp53Vc"
      },
      "source": [
        "## Get test non-food image and make predictions"
      ]
    },
    {
      "cell_type": "code",
      "metadata": {
        "colab": {
          "base_uri": "https://localhost:8080/"
        },
        "id": "kw6SrDXg5x2i",
        "outputId": "e258cc75-db7b-497b-a6ce-bb8558ed25c2"
      },
      "source": [
        "!wget https://raw.githubusercontent.com/mrdbourke/cs329s-ml-deployment-tutorial/main/food-images/plant.jpeg"
      ],
      "execution_count": 35,
      "outputs": [
        {
          "output_type": "stream",
          "name": "stdout",
          "text": [
            "--2021-09-29 09:34:23--  https://raw.githubusercontent.com/mrdbourke/cs329s-ml-deployment-tutorial/main/food-images/plant.jpeg\n",
            "Resolving raw.githubusercontent.com (raw.githubusercontent.com)... 185.199.111.133, 185.199.110.133, 185.199.108.133, ...\n",
            "Connecting to raw.githubusercontent.com (raw.githubusercontent.com)|185.199.111.133|:443... connected.\n",
            "HTTP request sent, awaiting response... 200 OK\n",
            "Length: 542790 (530K) [image/jpeg]\n",
            "Saving to: ‘plant.jpeg’\n",
            "\n",
            "plant.jpeg          100%[===================>] 530.07K  --.-KB/s    in 0.04s   \n",
            "\n",
            "2021-09-29 09:34:23 (12.6 MB/s) - ‘plant.jpeg’ saved [542790/542790]\n",
            "\n"
          ]
        }
      ]
    },
    {
      "cell_type": "code",
      "metadata": {
        "colab": {
          "base_uri": "https://localhost:8080/"
        },
        "id": "rOqYNg2s56-i",
        "outputId": "2d89fc47-d735-4716-ceeb-9d77569ade9d"
      },
      "source": [
        "plant = load_and_prep_image(\"plant.jpeg\")\n",
        "plant = tf.cast(tf.round(plant), dtype=tf.int32)\n",
        "plant"
      ],
      "execution_count": 36,
      "outputs": [
        {
          "output_type": "execute_result",
          "data": {
            "text/plain": [
              "<tf.Tensor: shape=(224, 224, 3), dtype=int32, numpy=\n",
              "array([[[110,  96,  95],\n",
              "        [107,  93,  92],\n",
              "        [ 88,  74,  71],\n",
              "        ...,\n",
              "        [141, 155, 164],\n",
              "        [207, 210, 209],\n",
              "        [242, 241, 237]],\n",
              "\n",
              "       [[117, 106, 104],\n",
              "        [117, 106, 103],\n",
              "        [116, 105, 101],\n",
              "        ...,\n",
              "        [132, 144, 152],\n",
              "        [207, 207, 208],\n",
              "        [202, 199, 201]],\n",
              "\n",
              "       [[107,  96,  92],\n",
              "        [119, 108, 104],\n",
              "        [102,  91,  87],\n",
              "        ...,\n",
              "        [177, 187, 189],\n",
              "        [206, 204, 202],\n",
              "        [204, 200, 197]],\n",
              "\n",
              "       ...,\n",
              "\n",
              "       [[ 20,  70,  49],\n",
              "        [ 37,  79,  57],\n",
              "        [111, 159, 133],\n",
              "        ...,\n",
              "        [122, 175, 142],\n",
              "        [ 84, 143, 110],\n",
              "        [ 49, 116,  80]],\n",
              "\n",
              "       [[120, 154, 131],\n",
              "        [137, 164, 147],\n",
              "        [108, 127, 111],\n",
              "        ...,\n",
              "        [103, 169, 133],\n",
              "        [ 46,  95,  66],\n",
              "        [ 83, 143, 110]],\n",
              "\n",
              "       [[ 43,  83,  62],\n",
              "        [ 20,  49,  31],\n",
              "        [ 33,  74,  54],\n",
              "        ...,\n",
              "        [ 53, 117,  80],\n",
              "        [ 22,  69,  35],\n",
              "        [ 63, 129,  93]]], dtype=int32)>"
            ]
          },
          "metadata": {},
          "execution_count": 36
        }
      ]
    },
    {
      "cell_type": "code",
      "metadata": {
        "colab": {
          "base_uri": "https://localhost:8080/"
        },
        "id": "Py1kfV5G59fj",
        "outputId": "76075199-6be6-46cf-8076-0addd3eaa25e"
      },
      "source": [
        "model_3.predict(tf.expand_dims(plant, axis=0))"
      ],
      "execution_count": 37,
      "outputs": [
        {
          "output_type": "execute_result",
          "data": {
            "text/plain": [
              "array([[1.8817223e-04, 6.1438541e-04, 1.8141204e-06, 4.1323481e-04,\n",
              "        3.0732088e-04, 1.8539028e-04, 3.4542608e-03, 9.8775858e-01,\n",
              "        7.7692661e-05, 1.4581066e-04, 3.1849814e-03, 3.6682414e-03]],\n",
              "      dtype=float32)"
            ]
          },
          "metadata": {},
          "execution_count": 37
        }
      ]
    },
    {
      "cell_type": "markdown",
      "metadata": {
        "id": "-T0qTK6h6CPe"
      },
      "source": [
        "# Make and plot test predictions"
      ]
    },
    {
      "cell_type": "code",
      "metadata": {
        "id": "BT0SU-mw5_2j"
      },
      "source": [
        "import matplotlib.pyplot as plt\n",
        "\n",
        "def pred_and_plot(model, image, class_names):\n",
        "  pred_probs = model.predict(tf.expand_dims(image, axis=0))\n",
        "  pred_class = class_names[tf.argmax(pred_probs[0])]\n",
        "  \n",
        "  plt.figure()\n",
        "  plt.imshow(image)\n",
        "  plt.title(f\"{pred_class}, prob: {tf.reduce_max(pred_probs):.2f}\")\n",
        "  plt.axis(False);"
      ],
      "execution_count": 38,
      "outputs": []
    },
    {
      "cell_type": "code",
      "metadata": {
        "colab": {
          "base_uri": "https://localhost:8080/",
          "height": 264
        },
        "id": "4mZA0H_-6EMR",
        "outputId": "ee5c2286-ff32-4254-a6e7-2c6c8e7185d0"
      },
      "source": [
        "pred_and_plot(model=model_3,\n",
        "              image=plant,\n",
        "              class_names=train_data.class_names)"
      ],
      "execution_count": 39,
      "outputs": [
        {
          "output_type": "display_data",
          "data": {
            "image/png": "[encoded data removed]",
            "text/plain": [
              "<Figure size 432x288 with 1 Axes>"
            ]
          },
          "metadata": {
            "needs_background": "light"
          }
        }
      ]
    },
    {
      "cell_type": "code",
      "metadata": {
        "colab": {
          "base_uri": "https://localhost:8080/"
        },
        "id": "QAYr_sdj6Fya",
        "outputId": "86092283-2226-4ea8-e4a6-b4bfefa54270"
      },
      "source": [
        "train_data.class_names"
      ],
      "execution_count": 40,
      "outputs": [
        {
          "output_type": "execute_result",
          "data": {
            "text/plain": [
              "['chicken_curry',\n",
              " 'chicken_wings',\n",
              " 'donuts',\n",
              " 'fried_rice',\n",
              " 'grilled_salmon',\n",
              " 'hamburger',\n",
              " 'ice_cream',\n",
              " 'not_food',\n",
              " 'pizza',\n",
              " 'ramen',\n",
              " 'steak',\n",
              " 'sushi']"
            ]
          },
          "metadata": {},
          "execution_count": 40
        }
      ]
    },
    {
      "cell_type": "code",
      "metadata": {
        "id": "wm2vvVD-6IRq"
      },
      "source": [
        ""
      ],
      "execution_count": null,
      "outputs": []
    }
  ]
}